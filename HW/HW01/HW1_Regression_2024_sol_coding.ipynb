{
 "cells": [
  {
   "cell_type": "markdown",
   "metadata": {},
   "source": [
    "## Homework 1 Clustering and Regression: Coding"
   ]
  },
  {
   "cell_type": "markdown",
   "metadata": {},
   "source": [
    "### Clustering"
   ]
  },
  {
   "cell_type": "markdown",
   "metadata": {},
   "source": [
    "K-means instruction:\n",
    "1. **Initialization**: Pick K random data points as K centroid locations c1 ,\n",
    "c2 , ..., cK .\n",
    "2. **Assign**: For each data point k, find the closest centroid. Assign that\n",
    "data point to the centroid. The distance used is typically Euclidean distance.\n",
    "3. **Update**: For each centroid, calculate the mean from the data points\n",
    "assigned to it.\n",
    "4. **Repeat**: repeat step 2 and 3 until the centroids stop changing (conver-\n",
    "gence).\n",
    "Given the following data points in x-y coordinates (2 dimensional)"
   ]
  },
  {
   "cell_type": "markdown",
   "metadata": {},
   "source": [
    "Import the library for implementation of K-means"
   ]
  },
  {
   "cell_type": "code",
   "execution_count": 1,
   "metadata": {},
   "outputs": [],
   "source": [
    "import math\n",
    "import matplotlib.pyplot as plt\n",
    "import numpy as np\n",
    "from copy import deepcopy"
   ]
  },
  {
   "cell_type": "markdown",
   "metadata": {},
   "source": [
    "Start by implementing the distance function for calculating the distance between two points namely Euclidean!"
   ]
  },
  {
   "cell_type": "code",
   "execution_count": 2,
   "metadata": {},
   "outputs": [],
   "source": [
    "def euclidean_dist(x, y):\n",
    "    return math.sqrt((x[0] - y[0])**2 + (x[1] - y[1])**2)\n",
    "\n",
    "def dist_to_centroids(x, centroids):\n",
    "    return [euclidean_dist(x, c) for c in centroids]"
   ]
  },
  {
   "cell_type": "markdown",
   "metadata": {},
   "source": [
    "Then, I will implement the reusable function for K-means"
   ]
  },
  {
   "cell_type": "code",
   "execution_count": 3,
   "metadata": {},
   "outputs": [],
   "source": [
    "def kmeans(data, centroids):\n",
    "    \n",
    "    # Print all starting centroids\n",
    "    print('-' * 50)\n",
    "    print(\"Initial centroids: \", centroids)\n",
    "    print('-' * 50)\n",
    "    \n",
    "    i = 0\n",
    "    cache_centroids = deepcopy(centroids)\n",
    "    centroids = deepcopy(centroids)\n",
    "    \n",
    "    while True:\n",
    "        \n",
    "        i += 1\n",
    "        print(f\"Loop {i} starts\", '-' * 50)\n",
    "        # Create a dict for collecting each centroids's data point\n",
    "        clusters = {p: [] for p in centroids}\n",
    "        \n",
    "        for d in data:\n",
    "            distance_to_all_centroids = dist_to_centroids(d, centroids)\n",
    "            closest_centroid = centroids[distance_to_all_centroids.index(min(distance_to_all_centroids))]\n",
    "            print(f\"Point {d} is closest to centroid {closest_centroid} with distance {min(distance_to_all_centroids):.3f}\")\n",
    "            clusters[closest_centroid].append(d)\n",
    "        print()\n",
    "        \n",
    "        # Summarize all the cluster and calculate the new centroids by its data point mean\n",
    "        for j, c in enumerate(clusters):\n",
    "            print(f\"Cluster {c} contains {len(clusters[c])} points: {clusters[c]}\")\n",
    "            \n",
    "            data_in_cluster = clusters[c]\n",
    "            x, y = np.mean(data_in_cluster, axis=0)\n",
    "            \n",
    "            # Assign to centroids and cache it for checking the convergence\n",
    "            cache_centroids[j] = centroids[j]\n",
    "            centroids[j] = (x, y)\n",
    "        print()\n",
    "        \n",
    "        # Summarize new updated centroids\n",
    "        for c in centroids:\n",
    "            print(f\"Updated centroid of loop {i} for {c}\")\n",
    "        \n",
    "        if centroids == cache_centroids:\n",
    "            print(f\"The centroids are converged at loop {i} with {centroids}\")\n",
    "            break\n",
    "        \n",
    "        print()\n",
    "    \n",
    "    return clusters"
   ]
  },
  {
   "cell_type": "markdown",
   "metadata": {},
   "source": [
    "**T5** If the starting points are (3,3), (2,2), and (-3,-3). Describe each assign and update step. What are the points assigned? What are the updated centroids? You may do this calculation by hand or write a program to do it."
   ]
  },
  {
   "cell_type": "code",
   "execution_count": 4,
   "metadata": {},
   "outputs": [
    {
     "name": "stdout",
     "output_type": "stream",
     "text": [
      "--------------------------------------------------\n",
      "Initial centroids:  [(3, 3), (2, 2), (-3, -3)]\n",
      "--------------------------------------------------\n",
      "Loop 1 starts --------------------------------------------------\n",
      "Point (1, 2) is closest to centroid (2, 2) with distance 1.000\n",
      "Point (3, 3) is closest to centroid (3, 3) with distance 0.000\n",
      "Point (2, 2) is closest to centroid (2, 2) with distance 0.000\n",
      "Point (8, 8) is closest to centroid (3, 3) with distance 7.071\n",
      "Point (6, 6) is closest to centroid (3, 3) with distance 4.243\n",
      "Point (7, 7) is closest to centroid (3, 3) with distance 5.657\n",
      "Point (-3, -3) is closest to centroid (-3, -3) with distance 0.000\n",
      "Point (-2, -4) is closest to centroid (-3, -3) with distance 1.414\n",
      "Point (-7, -7) is closest to centroid (-3, -3) with distance 5.657\n",
      "\n",
      "Cluster (3, 3) contains 4 points: [(3, 3), (8, 8), (6, 6), (7, 7)]\n",
      "Cluster (2, 2) contains 2 points: [(1, 2), (2, 2)]\n",
      "Cluster (-3, -3) contains 3 points: [(-3, -3), (-2, -4), (-7, -7)]\n",
      "\n",
      "Updated centroid of loop 1 for (6.0, 6.0)\n",
      "Updated centroid of loop 1 for (1.5, 2.0)\n",
      "Updated centroid of loop 1 for (-4.0, -4.666666666666667)\n",
      "\n",
      "Loop 2 starts --------------------------------------------------\n",
      "Point (1, 2) is closest to centroid (1.5, 2.0) with distance 0.500\n",
      "Point (3, 3) is closest to centroid (1.5, 2.0) with distance 1.803\n",
      "Point (2, 2) is closest to centroid (1.5, 2.0) with distance 0.500\n",
      "Point (8, 8) is closest to centroid (6.0, 6.0) with distance 2.828\n",
      "Point (6, 6) is closest to centroid (6.0, 6.0) with distance 0.000\n",
      "Point (7, 7) is closest to centroid (6.0, 6.0) with distance 1.414\n",
      "Point (-3, -3) is closest to centroid (-4.0, -4.666666666666667) with distance 1.944\n",
      "Point (-2, -4) is closest to centroid (-4.0, -4.666666666666667) with distance 2.108\n",
      "Point (-7, -7) is closest to centroid (-4.0, -4.666666666666667) with distance 3.801\n",
      "\n",
      "Cluster (6.0, 6.0) contains 3 points: [(8, 8), (6, 6), (7, 7)]\n",
      "Cluster (1.5, 2.0) contains 3 points: [(1, 2), (3, 3), (2, 2)]\n",
      "Cluster (-4.0, -4.666666666666667) contains 3 points: [(-3, -3), (-2, -4), (-7, -7)]\n",
      "\n",
      "Updated centroid of loop 2 for (7.0, 7.0)\n",
      "Updated centroid of loop 2 for (2.0, 2.3333333333333335)\n",
      "Updated centroid of loop 2 for (-4.0, -4.666666666666667)\n",
      "\n",
      "Loop 3 starts --------------------------------------------------\n",
      "Point (1, 2) is closest to centroid (2.0, 2.3333333333333335) with distance 1.054\n",
      "Point (3, 3) is closest to centroid (2.0, 2.3333333333333335) with distance 1.202\n",
      "Point (2, 2) is closest to centroid (2.0, 2.3333333333333335) with distance 0.333\n",
      "Point (8, 8) is closest to centroid (7.0, 7.0) with distance 1.414\n",
      "Point (6, 6) is closest to centroid (7.0, 7.0) with distance 1.414\n",
      "Point (7, 7) is closest to centroid (7.0, 7.0) with distance 0.000\n",
      "Point (-3, -3) is closest to centroid (-4.0, -4.666666666666667) with distance 1.944\n",
      "Point (-2, -4) is closest to centroid (-4.0, -4.666666666666667) with distance 2.108\n",
      "Point (-7, -7) is closest to centroid (-4.0, -4.666666666666667) with distance 3.801\n",
      "\n",
      "Cluster (7.0, 7.0) contains 3 points: [(8, 8), (6, 6), (7, 7)]\n",
      "Cluster (2.0, 2.3333333333333335) contains 3 points: [(1, 2), (3, 3), (2, 2)]\n",
      "Cluster (-4.0, -4.666666666666667) contains 3 points: [(-3, -3), (-2, -4), (-7, -7)]\n",
      "\n",
      "Updated centroid of loop 3 for (7.0, 7.0)\n",
      "Updated centroid of loop 3 for (2.0, 2.3333333333333335)\n",
      "Updated centroid of loop 3 for (-4.0, -4.666666666666667)\n",
      "The centroids are converged at loop 3 with [(7.0, 7.0), (2.0, 2.3333333333333335), (-4.0, -4.666666666666667)]\n"
     ]
    }
   ],
   "source": [
    "data = [(1, 2),\n",
    "        (3, 3),\n",
    "        (2, 2),\n",
    "        (8, 8),\n",
    "        (6, 6),\n",
    "        (7, 7),\n",
    "        (-3, -3),\n",
    "        (-2, -4),\n",
    "        (-7, -7)]\n",
    "\n",
    "centroids_T5 = [(3, 3), (2, 2), (-3, -3)]\n",
    "clustered_T5 = kmeans(data, centroids_T5)"
   ]
  },
  {
   "cell_type": "markdown",
   "metadata": {},
   "source": [
    "Make a function to plot the image for easier visualization"
   ]
  },
  {
   "cell_type": "code",
   "execution_count": 5,
   "metadata": {},
   "outputs": [],
   "source": [
    "# Function to plot the clustered data\n",
    "def plot_im(ori_data, ori_centroids, clustered_data):\n",
    "    fig, ax = plt.subplots(1, 3, figsize=(15, 5))\n",
    "    \n",
    "    data = np.array(ori_data)\n",
    "    centroid = np.array(ori_centroids)\n",
    "    \n",
    "    ax[0].scatter(x=data[:, 0], y=data[:, 1], c='red')\n",
    "    ax[0].scatter(centroid[:, 0], centroid[:, 1], c='black', marker='x')\n",
    "    ax[0].set_title('Data point w/ centroids (black)')\n",
    "    \n",
    "    colors = ['red', 'green', 'blue', 'yellow']\n",
    "    for i, clus in enumerate(clustered_data):\n",
    "        clus_points = np.array(clustered_data[clus])\n",
    "        \n",
    "        ax[1].scatter(x=clus_points[:, 0], y=clus_points[:, 1], c=colors[i])\n",
    "        ax[2].scatter(x=clus_points[:, 0], y=clus_points[:, 1], c=colors[i])\n",
    "    \n",
    "    # name middle figure\n",
    "    ax[1].set_title('Data points after clustering')\n",
    "    \n",
    "    # For last figure with new centroids\n",
    "    \n",
    "    # Make an array from clustered key\n",
    "    clustered_centroids = np.array(list(clustered_data.keys()))\n",
    "    ax[2].scatter(clustered_centroids[:, 0], clustered_centroids[:, 1], c='black', marker='x')\n",
    "    ax[2].set_title('Data points w/ new centroids (black)')\n",
    "    \n",
    "    plt.show()"
   ]
  },
  {
   "cell_type": "markdown",
   "metadata": {},
   "source": [
    "**T5's plot**: The plot (after switching starting points) of original data points in red color with their defined centroids in black color (left). After clustering, the K-means algorithm clearly distinguishes the data points into three groups (middle). The rightmost plot shows the updated centroids in black color."
   ]
  },
  {
   "cell_type": "code",
   "execution_count": 6,
   "metadata": {},
   "outputs": [
    {
     "data": {
      "image/png": "[encoded data removed]",
      "text/plain": [
       "<Figure size 1500x500 with 3 Axes>"
      ]
     },
     "metadata": {},
     "output_type": "display_data"
    }
   ],
   "source": [
    "plot_im(data, centroids_T5, clustered_T5)"
   ]
  },
  {
   "cell_type": "markdown",
   "metadata": {},
   "source": [
    "**T6** If the starting points are (-3,-3), (2,2), and (-7,-7), what happens?"
   ]
  },
  {
   "cell_type": "code",
   "execution_count": 7,
   "metadata": {},
   "outputs": [
    {
     "name": "stdout",
     "output_type": "stream",
     "text": [
      "--------------------------------------------------\n",
      "Initial centroids:  [(-3, -3), (2, 2), (-7, -7)]\n",
      "--------------------------------------------------\n",
      "Loop 1 starts --------------------------------------------------\n",
      "Point (1, 2) is closest to centroid (2, 2) with distance 1.000\n",
      "Point (3, 3) is closest to centroid (2, 2) with distance 1.414\n",
      "Point (2, 2) is closest to centroid (2, 2) with distance 0.000\n",
      "Point (8, 8) is closest to centroid (2, 2) with distance 8.485\n",
      "Point (6, 6) is closest to centroid (2, 2) with distance 5.657\n",
      "Point (7, 7) is closest to centroid (2, 2) with distance 7.071\n",
      "Point (-3, -3) is closest to centroid (-3, -3) with distance 0.000\n",
      "Point (-2, -4) is closest to centroid (-3, -3) with distance 1.414\n",
      "Point (-7, -7) is closest to centroid (-7, -7) with distance 0.000\n",
      "\n",
      "Cluster (-3, -3) contains 2 points: [(-3, -3), (-2, -4)]\n",
      "Cluster (2, 2) contains 6 points: [(1, 2), (3, 3), (2, 2), (8, 8), (6, 6), (7, 7)]\n",
      "Cluster (-7, -7) contains 1 points: [(-7, -7)]\n",
      "\n",
      "Updated centroid of loop 1 for (-2.5, -3.5)\n",
      "Updated centroid of loop 1 for (4.5, 4.666666666666667)\n",
      "Updated centroid of loop 1 for (-7.0, -7.0)\n",
      "\n",
      "Loop 2 starts --------------------------------------------------\n",
      "Point (1, 2) is closest to centroid (4.5, 4.666666666666667) with distance 4.400\n",
      "Point (3, 3) is closest to centroid (4.5, 4.666666666666667) with distance 2.242\n",
      "Point (2, 2) is closest to centroid (4.5, 4.666666666666667) with distance 3.655\n",
      "Point (8, 8) is closest to centroid (4.5, 4.666666666666667) with distance 4.833\n",
      "Point (6, 6) is closest to centroid (4.5, 4.666666666666667) with distance 2.007\n",
      "Point (7, 7) is closest to centroid (4.5, 4.666666666666667) with distance 3.420\n",
      "Point (-3, -3) is closest to centroid (-2.5, -3.5) with distance 0.707\n",
      "Point (-2, -4) is closest to centroid (-2.5, -3.5) with distance 0.707\n",
      "Point (-7, -7) is closest to centroid (-7.0, -7.0) with distance 0.000\n",
      "\n",
      "Cluster (-2.5, -3.5) contains 2 points: [(-3, -3), (-2, -4)]\n",
      "Cluster (4.5, 4.666666666666667) contains 6 points: [(1, 2), (3, 3), (2, 2), (8, 8), (6, 6), (7, 7)]\n",
      "Cluster (-7.0, -7.0) contains 1 points: [(-7, -7)]\n",
      "\n",
      "Updated centroid of loop 2 for (-2.5, -3.5)\n",
      "Updated centroid of loop 2 for (4.5, 4.666666666666667)\n",
      "Updated centroid of loop 2 for (-7.0, -7.0)\n",
      "The centroids are converged at loop 2 with [(-2.5, -3.5), (4.5, 4.666666666666667), (-7.0, -7.0)]\n"
     ]
    }
   ],
   "source": [
    "data = [(1, 2),\n",
    "        (3, 3),\n",
    "        (2, 2),\n",
    "        (8, 8),\n",
    "        (6, 6),\n",
    "        (7, 7),\n",
    "        (-3, -3),\n",
    "        (-2, -4),\n",
    "        (-7, -7)]\n",
    "\n",
    "centroids_T6 = [(-3, -3), (2, 2), (-7, -7)]\n",
    "clustered_T6 = kmeans(data, centroids_T6)"
   ]
  },
  {
   "cell_type": "markdown",
   "metadata": {},
   "source": [
    "**T6's plot**: The plot (after switching starting points) of original data points in red color with their defined centroids in black color (left). After clustering, the K-means algorithm clearly distinguishes the data points into three groups (middle). The rightmost plot shows the updated centroids in black color."
   ]
  },
  {
   "cell_type": "code",
   "execution_count": 8,
   "metadata": {},
   "outputs": [
    {
     "data": {
      "image/png": "[encoded data removed]",
      "text/plain": [
       "<Figure size 1500x500 with 3 Axes>"
      ]
     },
     "metadata": {},
     "output_type": "display_data"
    }
   ],
   "source": [
    "plot_im(data, centroids_T6, clustered_T6)"
   ]
  },
  {
   "cell_type": "markdown",
   "metadata": {},
   "source": [
    "**T7**: What if we want to know how tight in each cluster are so that we can compare between two starting points!"
   ]
  },
  {
   "cell_type": "code",
   "execution_count": 9,
   "metadata": {},
   "outputs": [],
   "source": [
    "# Make a function to calculate distance based on given clustered information\n",
    "\n",
    "def in_cluster_dist(clustered_data):\n",
    "    total_dist = 0\n",
    "    for c in clustered_data:\n",
    "        for d in clustered_data[c]:\n",
    "            total_dist += euclidean_dist(d, c)\n",
    "    return total_dist"
   ]
  },
  {
   "cell_type": "code",
   "execution_count": 10,
   "metadata": {},
   "outputs": [
    {
     "name": "stdout",
     "output_type": "stream",
     "text": [
      "Total in-cluster distance for T5: 13.270\n",
      "Total in-cluster distance for T6: 21.972\n"
     ]
    }
   ],
   "source": [
    "T5_in_cluster_dist = in_cluster_dist(clustered_T5)\n",
    "T6_in_cluster_dist = in_cluster_dist(clustered_T6)\n",
    "print(f\"Total in-cluster distance for T5: {T5_in_cluster_dist:.3f}\")\n",
    "print(f\"Total in-cluster distance for T6: {T6_in_cluster_dist:.3f}\")"
   ]
  },
  {
   "cell_type": "markdown",
   "metadata": {},
   "source": [
    "**T8**: Let's come up with some great starting point by increase K=4"
   ]
  },
  {
   "cell_type": "code",
   "execution_count": 11,
   "metadata": {},
   "outputs": [
    {
     "name": "stdout",
     "output_type": "stream",
     "text": [
      "--------------------------------------------------\n",
      "Initial centroids:  [(7, 7), (2, 2), (-1, -1), (-7, -7)]\n",
      "--------------------------------------------------\n",
      "Loop 1 starts --------------------------------------------------\n",
      "Point (1, 2) is closest to centroid (2, 2) with distance 1.000\n",
      "Point (3, 3) is closest to centroid (2, 2) with distance 1.414\n",
      "Point (2, 2) is closest to centroid (2, 2) with distance 0.000\n",
      "Point (8, 8) is closest to centroid (7, 7) with distance 1.414\n",
      "Point (6, 6) is closest to centroid (7, 7) with distance 1.414\n",
      "Point (7, 7) is closest to centroid (7, 7) with distance 0.000\n",
      "Point (-3, -3) is closest to centroid (-1, -1) with distance 2.828\n",
      "Point (-2, -4) is closest to centroid (-1, -1) with distance 3.162\n",
      "Point (-7, -7) is closest to centroid (-7, -7) with distance 0.000\n",
      "\n",
      "Cluster (7, 7) contains 3 points: [(8, 8), (6, 6), (7, 7)]\n",
      "Cluster (2, 2) contains 3 points: [(1, 2), (3, 3), (2, 2)]\n",
      "Cluster (-1, -1) contains 2 points: [(-3, -3), (-2, -4)]\n",
      "Cluster (-7, -7) contains 1 points: [(-7, -7)]\n",
      "\n",
      "Updated centroid of loop 1 for (7.0, 7.0)\n",
      "Updated centroid of loop 1 for (2.0, 2.3333333333333335)\n",
      "Updated centroid of loop 1 for (-2.5, -3.5)\n",
      "Updated centroid of loop 1 for (-7.0, -7.0)\n",
      "\n",
      "Loop 2 starts --------------------------------------------------\n",
      "Point (1, 2) is closest to centroid (2.0, 2.3333333333333335) with distance 1.054\n",
      "Point (3, 3) is closest to centroid (2.0, 2.3333333333333335) with distance 1.202\n",
      "Point (2, 2) is closest to centroid (2.0, 2.3333333333333335) with distance 0.333\n",
      "Point (8, 8) is closest to centroid (7.0, 7.0) with distance 1.414\n",
      "Point (6, 6) is closest to centroid (7.0, 7.0) with distance 1.414\n",
      "Point (7, 7) is closest to centroid (7.0, 7.0) with distance 0.000\n",
      "Point (-3, -3) is closest to centroid (-2.5, -3.5) with distance 0.707\n",
      "Point (-2, -4) is closest to centroid (-2.5, -3.5) with distance 0.707\n",
      "Point (-7, -7) is closest to centroid (-7.0, -7.0) with distance 0.000\n",
      "\n",
      "Cluster (7.0, 7.0) contains 3 points: [(8, 8), (6, 6), (7, 7)]\n",
      "Cluster (2.0, 2.3333333333333335) contains 3 points: [(1, 2), (3, 3), (2, 2)]\n",
      "Cluster (-2.5, -3.5) contains 2 points: [(-3, -3), (-2, -4)]\n",
      "Cluster (-7.0, -7.0) contains 1 points: [(-7, -7)]\n",
      "\n",
      "Updated centroid of loop 2 for (7.0, 7.0)\n",
      "Updated centroid of loop 2 for (2.0, 2.3333333333333335)\n",
      "Updated centroid of loop 2 for (-2.5, -3.5)\n",
      "Updated centroid of loop 2 for (-7.0, -7.0)\n",
      "The centroids are converged at loop 2 with [(7.0, 7.0), (2.0, 2.3333333333333335), (-2.5, -3.5), (-7.0, -7.0)]\n"
     ]
    }
   ],
   "source": [
    "data = [(1, 2),\n",
    "        (3, 3),\n",
    "        (2, 2),\n",
    "        (8, 8),\n",
    "        (6, 6),\n",
    "        (7, 7),\n",
    "        (-3, -3),\n",
    "        (-2, -4),\n",
    "        (-7, -7)]\n",
    "\n",
    "centroids_T7 = [(7, 7), (2, 2), (-1, -1), (-7, -7)]\n",
    "clustered_T7 = kmeans(data, centroids_T7)"
   ]
  },
  {
   "cell_type": "code",
   "execution_count": 12,
   "metadata": {},
   "outputs": [
    {
     "data": {
      "image/png": "[encoded data removed]",
      "text/plain": [
       "<Figure size 1500x500 with 3 Axes>"
      ]
     },
     "metadata": {},
     "output_type": "display_data"
    }
   ],
   "source": [
    "plot_im(data, centroids_T7, clustered_T7)"
   ]
  },
  {
   "cell_type": "markdown",
   "metadata": {},
   "source": [
    "What will the distance in the clusters of this setting?"
   ]
  },
  {
   "cell_type": "code",
   "execution_count": 13,
   "metadata": {},
   "outputs": [
    {
     "name": "stdout",
     "output_type": "stream",
     "text": [
      "Total in-cluster distance for T7: 6.832\n"
     ]
    }
   ],
   "source": [
    "T7_in_cluster_dist = in_cluster_dist(clustered_T7)\n",
    "print(f\"Total in-cluster distance for T7: {T7_in_cluster_dist:.3f}\")"
   ]
  },
  {
   "cell_type": "markdown",
   "metadata": {},
   "source": [
    "### My heart will go on"
   ]
  },
  {
   "cell_type": "markdown",
   "metadata": {},
   "source": [
    "**T8**: What is the median age of the training set?"
   ]
  },
  {
   "cell_type": "markdown",
   "metadata": {},
   "source": [
    "I will start by import the important library for this task"
   ]
  },
  {
   "cell_type": "code",
   "execution_count": 14,
   "metadata": {},
   "outputs": [],
   "source": [
    "import pandas as pd\n",
    "import numpy as np\n",
    "from copy import deepcopy\n",
    "\n",
    "seed = 280222222\n",
    "np.random.seed(seed)"
   ]
  },
  {
   "cell_type": "markdown",
   "metadata": {},
   "source": [
    "Let's calculate the median age of the training set!"
   ]
  },
  {
   "cell_type": "code",
   "execution_count": 15,
   "metadata": {},
   "outputs": [
    {
     "data": {
      "text/html": [
       "<div>\n",
       "<style scoped>\n",
       "    .dataframe tbody tr th:only-of-type {\n",
       "        vertical-align: middle;\n",
       "    }\n",
       "\n",
       "    .dataframe tbody tr th {\n",
       "        vertical-align: top;\n",
       "    }\n",
       "\n",
       "    .dataframe thead th {\n",
       "        text-align: right;\n",
       "    }\n",
       "</style>\n",
       "<table border=\"1\" class=\"dataframe\">\n",
       "  <thead>\n",
       "    <tr style=\"text-align: right;\">\n",
       "      <th></th>\n",
       "      <th>PassengerId</th>\n",
       "      <th>Survived</th>\n",
       "      <th>Pclass</th>\n",
       "      <th>Name</th>\n",
       "      <th>Sex</th>\n",
       "      <th>Age</th>\n",
       "      <th>SibSp</th>\n",
       "      <th>Parch</th>\n",
       "      <th>Ticket</th>\n",
       "      <th>Fare</th>\n",
       "      <th>Cabin</th>\n",
       "      <th>Embarked</th>\n",
       "    </tr>\n",
       "  </thead>\n",
       "  <tbody>\n",
       "    <tr>\n",
       "      <th>0</th>\n",
       "      <td>1</td>\n",
       "      <td>0</td>\n",
       "      <td>3</td>\n",
       "      <td>Braund, Mr. Owen Harris</td>\n",
       "      <td>male</td>\n",
       "      <td>22.0</td>\n",
       "      <td>1</td>\n",
       "      <td>0</td>\n",
       "      <td>A/5 21171</td>\n",
       "      <td>7.2500</td>\n",
       "      <td>NaN</td>\n",
       "      <td>S</td>\n",
       "    </tr>\n",
       "    <tr>\n",
       "      <th>1</th>\n",
       "      <td>2</td>\n",
       "      <td>1</td>\n",
       "      <td>1</td>\n",
       "      <td>Cumings, Mrs. John Bradley (Florence Briggs Th...</td>\n",
       "      <td>female</td>\n",
       "      <td>38.0</td>\n",
       "      <td>1</td>\n",
       "      <td>0</td>\n",
       "      <td>PC 17599</td>\n",
       "      <td>71.2833</td>\n",
       "      <td>C85</td>\n",
       "      <td>C</td>\n",
       "    </tr>\n",
       "    <tr>\n",
       "      <th>2</th>\n",
       "      <td>3</td>\n",
       "      <td>1</td>\n",
       "      <td>3</td>\n",
       "      <td>Heikkinen, Miss. Laina</td>\n",
       "      <td>female</td>\n",
       "      <td>26.0</td>\n",
       "      <td>0</td>\n",
       "      <td>0</td>\n",
       "      <td>STON/O2. 3101282</td>\n",
       "      <td>7.9250</td>\n",
       "      <td>NaN</td>\n",
       "      <td>S</td>\n",
       "    </tr>\n",
       "    <tr>\n",
       "      <th>3</th>\n",
       "      <td>4</td>\n",
       "      <td>1</td>\n",
       "      <td>1</td>\n",
       "      <td>Futrelle, Mrs. Jacques Heath (Lily May Peel)</td>\n",
       "      <td>female</td>\n",
       "      <td>35.0</td>\n",
       "      <td>1</td>\n",
       "      <td>0</td>\n",
       "      <td>113803</td>\n",
       "      <td>53.1000</td>\n",
       "      <td>C123</td>\n",
       "      <td>S</td>\n",
       "    </tr>\n",
       "    <tr>\n",
       "      <th>4</th>\n",
       "      <td>5</td>\n",
       "      <td>0</td>\n",
       "      <td>3</td>\n",
       "      <td>Allen, Mr. William Henry</td>\n",
       "      <td>male</td>\n",
       "      <td>35.0</td>\n",
       "      <td>0</td>\n",
       "      <td>0</td>\n",
       "      <td>373450</td>\n",
       "      <td>8.0500</td>\n",
       "      <td>NaN</td>\n",
       "      <td>S</td>\n",
       "    </tr>\n",
       "  </tbody>\n",
       "</table>\n",
       "</div>"
      ],
      "text/plain": [
       "   PassengerId  Survived  Pclass  \\\n",
       "0            1         0       3   \n",
       "1            2         1       1   \n",
       "2            3         1       3   \n",
       "3            4         1       1   \n",
       "4            5         0       3   \n",
       "\n",
       "                                                Name     Sex   Age  SibSp  \\\n",
       "0                            Braund, Mr. Owen Harris    male  22.0      1   \n",
       "1  Cumings, Mrs. John Bradley (Florence Briggs Th...  female  38.0      1   \n",
       "2                             Heikkinen, Miss. Laina  female  26.0      0   \n",
       "3       Futrelle, Mrs. Jacques Heath (Lily May Peel)  female  35.0      1   \n",
       "4                           Allen, Mr. William Henry    male  35.0      0   \n",
       "\n",
       "   Parch            Ticket     Fare Cabin Embarked  \n",
       "0      0         A/5 21171   7.2500   NaN        S  \n",
       "1      0          PC 17599  71.2833   C85        C  \n",
       "2      0  STON/O2. 3101282   7.9250   NaN        S  \n",
       "3      0            113803  53.1000  C123        S  \n",
       "4      0            373450   8.0500   NaN        S  "
      ]
     },
     "execution_count": 15,
     "metadata": {},
     "output_type": "execute_result"
    }
   ],
   "source": [
    "# Load the training data and display the first 5 rows\n",
    "train_url = \"http://s3.amazonaws.com/assets.datacamp.com/course/Kaggle/train.csv\"\n",
    "train_inspect = pd.read_csv(train_url) #training set\n",
    "train_inspect.head()"
   ]
  },
  {
   "cell_type": "code",
   "execution_count": 16,
   "metadata": {},
   "outputs": [
    {
     "name": "stdout",
     "output_type": "stream",
     "text": [
      "Before fill null; Median of age: 28.0 Mode of age: 24.0\n",
      "After fill null; Median of age: 24.0 Mode of age: 24.0\n"
     ]
    }
   ],
   "source": [
    "print(f\"Before fill null; Median of age: {train_inspect['Age'].median()} Mode of age: {train_inspect['Age'].mode()[0]}\")\n",
    "\n",
    "# Fill the empty age cells with the median age\n",
    "train_inspect[\"Age\"] = train_inspect[\"Age\"].fillna(train_inspect[\"Age\"].mode()[0])\n",
    "\n",
    "# Check the median of age\n",
    "print(f\"After fill null; Median of age: {train_inspect['Age'].median()} Mode of age: {train_inspect['Age'].mode()[0]}\")"
   ]
  },
  {
   "cell_type": "markdown",
   "metadata": {},
   "source": [
    "**T9**: Some fields like ‘Embarked’ are categorical. They need to be converted\n",
    "to numbers first. We will represent S with 0, C with 1, and Q with 2. What is\n",
    "the mode of Embarked? Fill the missing values with the mode. (Do the same for Sex)"
   ]
  },
  {
   "cell_type": "markdown",
   "metadata": {},
   "source": [
    "Let's define a function for cleaning the embarked and Sex column!"
   ]
  },
  {
   "cell_type": "code",
   "execution_count": 17,
   "metadata": {},
   "outputs": [],
   "source": [
    "def categorize_embark(df):\n",
    "    \"\"\"Categorize the embark column\n",
    "\n",
    "    Args:\n",
    "        df (dataframe): The dataframe that contains all data\n",
    "\n",
    "    Returns:\n",
    "        df: categorized (embark) dataframe\n",
    "    \"\"\"\n",
    "    df.loc[df[\"Embarked\"] == \"S\", \"Embarked\"] = 0\n",
    "    df.loc[df[\"Embarked\"] == \"C\", \"Embarked\"] = 1\n",
    "    df.loc[df[\"Embarked\"] == \"Q\", \"Embarked\"] = 2\n",
    "    return df\n",
    "\n",
    "def categorize_sex(df):\n",
    "    \"\"\"Categorize sex column in to 1 and 0\n",
    "\n",
    "    Args:\n",
    "        df (dataframe): The dataframe that contains all data\n",
    "\n",
    "    Returns:\n",
    "        df: categorized dataframe\n",
    "    \"\"\"\n",
    "    df.loc[df[\"Sex\"] == \"male\", \"Sex\"] = 1\n",
    "    df.loc[df[\"Sex\"] == \"female\", \"Sex\"] = 0\n",
    "    return df"
   ]
  },
  {
   "cell_type": "markdown",
   "metadata": {},
   "source": [
    "Show the mode of the Embarked column!"
   ]
  },
  {
   "cell_type": "code",
   "execution_count": 18,
   "metadata": {},
   "outputs": [
    {
     "name": "stdout",
     "output_type": "stream",
     "text": [
      "Before fill null with mode; Mode of embark: 0\n",
      "After fill null with mode; Mode of embark: 0\n"
     ]
    }
   ],
   "source": [
    "# Clean the embark column\n",
    "train_inspect = categorize_embark(train_inspect)\n",
    "print(f\"Before fill null with mode; Mode of embark: {train_inspect['Embarked'].mode()[0]}\")\n",
    "\n",
    "# Fill the empty embark cells with the mode of embark\n",
    "train_inspect[\"Embarked\"] = train_inspect[\"Embarked\"].fillna(train_inspect[\"Embarked\"].mode()[0])\n",
    "\n",
    "# Check the mode of embark\n",
    "print(f\"After fill null with mode; Mode of embark: {train_inspect['Embarked'].mode()[0]}\")"
   ]
  },
  {
   "cell_type": "markdown",
   "metadata": {},
   "source": [
    "Show the mode of Sex column!"
   ]
  },
  {
   "cell_type": "code",
   "execution_count": 19,
   "metadata": {},
   "outputs": [
    {
     "name": "stdout",
     "output_type": "stream",
     "text": [
      "Before fill null with mode; Mode of sex: 1\n",
      "After fill null with mode; Mode of sex: 1\n"
     ]
    }
   ],
   "source": [
    "# Clean the sex column\n",
    "train_inspect = categorize_sex(train_inspect)\n",
    "print(f\"Before fill null with mode; Mode of sex: {train_inspect['Sex'].mode()[0]}\")\n",
    "\n",
    "# Fill the empty Sex cells with mode\n",
    "train_inspect[\"Sex\"] = train_inspect[\"Sex\"].fillna(train_inspect[\"Sex\"].mode()[0])\n",
    "\n",
    "# Check the mode of sex\n",
    "print(f\"After fill null with mode; Mode of sex: {train_inspect['Sex'].mode()[0]}\")"
   ]
  },
  {
   "cell_type": "markdown",
   "metadata": {},
   "source": [
    "**T10**: Write a logistic regression classifier using gradient descent as learned\n",
    "in class. Use PClass, Sex, Age, and Embarked as input features."
   ]
  },
  {
   "cell_type": "markdown",
   "metadata": {},
   "source": [
    "Let's make the model for logistic regression!"
   ]
  },
  {
   "cell_type": "code",
   "execution_count": 20,
   "metadata": {},
   "outputs": [],
   "source": [
    "# Implement the logistic regression classifier\n",
    "class LogisticRegClassifier:\n",
    "    def __init__(self, learning_rate=0.01, epoch=1000, n_attributes=4, batch_size=32, val_perc=0.1):\n",
    "        self.learning_rate = learning_rate\n",
    "        self.epoch = epoch\n",
    "        self.n_attributes = n_attributes\n",
    "        self.batch_size = batch_size\n",
    "        self.xy = None\n",
    "        self.val_perc = val_perc\n",
    "        self.weights = self.initialize()\n",
    "    \n",
    "    def setup_train_data(self, xy):\n",
    "        \"\"\"Setup training data for the model\n",
    "\n",
    "        Args:\n",
    "            xy (array):training data x and y\n",
    "        \"\"\"\n",
    "        self.xy = xy\n",
    "        \n",
    "    \n",
    "    def initialize(self,):\n",
    "        \"\"\"\n",
    "        Initialize the model's weights according to the number of attributes\n",
    "        Ex: z = w0+ w1x1 + w2x2 + w3x3 + w4x4 (like in the lecture)\n",
    "        \"\"\"\n",
    "        weights = np.random.randn(self.n_attributes + 1, 1)\n",
    "        return weights\n",
    "\n",
    "    def sigmoid(self, x):\n",
    "        \"\"\"\n",
    "        Sigmoid function\n",
    "        \"\"\"\n",
    "        return 1 / (1 + np.exp(-x))\n",
    "    \n",
    "    def forward(self, x, is_train=True):\n",
    "        \"\"\"\n",
    "        Forward pass for the model using dot product\n",
    "        \"\"\"\n",
    "        \n",
    "        # Forward to get the intermediate output\n",
    "        z = self.weights[0] + np.dot(x, self.weights[1:])\n",
    "        \n",
    "        \n",
    "        # Apply logistic function\n",
    "        output = self.sigmoid(z)\n",
    "        return output\n",
    "    \n",
    "    def inference(self, x):\n",
    "        \"\"\"\n",
    "        Inference the model\n",
    "        \"\"\"\n",
    "        out = self.forward(x, is_train=False)\n",
    "        out_class = np.array([1 if i > 0.5 else 0 for i in out]).reshape(-1, 1)\n",
    "        return out_class\n",
    "\n",
    "    \n",
    "    def calculate_loss(self, y, y_pred, eps=1e-8):\n",
    "        \"\"\"\n",
    "        Calculate the loss\n",
    "        \"\"\"\n",
    "        return -np.mean(y * np.log(y_pred + eps) + (1 - y) * np.log(1 - y_pred + eps))\n",
    "    \n",
    "    def backward(self, x, y, y_pred):\n",
    "        \"\"\"\n",
    "        Backward pass for the model\n",
    "        \"\"\"\n",
    "        # Calculate the gradient\n",
    "        dz = y - y_pred\n",
    "        \n",
    "        # Update the weights\n",
    "        self.weights[1:] += self.learning_rate * np.dot(x.T, dz)\n",
    "        self.weights[0] += self.learning_rate * np.sum(dz)\n",
    "        \n",
    "    \n",
    "    def calculuate_accuracy(self, y, y_pred):\n",
    "        \"\"\"\n",
    "        Calculate the accuracy of the model\n",
    "        \"\"\"\n",
    "        y_pred_class = np.array([1.0 if i > 0.5 else 0.0 for i in y_pred]).reshape(-1, 1) # Need to have the same shape as y\n",
    "        y_result = y_pred_class == y\n",
    "        return np.mean(y_result)\n",
    "    \n",
    "    def train_without_val(self,):\n",
    "        print('----------------------------------------------------')\n",
    "        print(\"Starting train.....\")\n",
    "        print('----------------------------------------------------')\n",
    "        for i in range(self.epoch):\n",
    "            # Make a batch\n",
    "            n_batch = len(self.xy) // self.batch_size\n",
    "            \n",
    "            # Shuffle the data before batching because when batch the last batch might not be full so it will be dropped out!\n",
    "            np.random.shuffle(self.xy)\n",
    "            \n",
    "            # Split the training data\n",
    "            x_train, y_train = self.xy[:, :-1], self.xy[:, -1].reshape(-1, 1)\n",
    "            \n",
    "            for j in range(n_batch):\n",
    "                x_batch = x_train[j * self.batch_size: (j + 1) * self.batch_size]\n",
    "                y_batch = y_train[j * self.batch_size: (j + 1) * self.batch_size]\n",
    "                \n",
    "                # Forward pass\n",
    "                y_pred = self.forward(x_batch)\n",
    "                \n",
    "                # Calculate the loss\n",
    "                loss = self.calculate_loss(y_batch, y_pred)\n",
    "                \n",
    "                # Backward pass\n",
    "                self.backward(x_batch, y_batch, y_pred)\n",
    "                \n",
    "            # Log\n",
    "            if (i+1) == self.epoch:\n",
    "                print(f\"Epoch: {i+1}, Loss: {loss:.5f}, Accuracy: {self.calculuate_accuracy(y_train, self.forward(x_train))}\")\n",
    "    \n",
    "    def train(self, val_perc=0.1):\n",
    "        \"\"\"\n",
    "        Train the model with val\n",
    "        \"\"\"\n",
    "        \n",
    "        # Prepare dataset: split and batch\n",
    "        total_size = self.xy.shape[0]\n",
    "\n",
    "        # Shuffle the data\n",
    "        np.random.shuffle(self.xy)\n",
    "        \n",
    "        # Split the data\n",
    "        val_size = int(total_size * val_perc)\n",
    "        xy_train = self.xy[val_size:, :]\n",
    "        x_val, y_val = self.xy[:val_size, :-1], self.xy[:val_size, -1].reshape(-1, 1)\n",
    "        \n",
    "        \n",
    "        print(f\"Train size: {len(xy_train)} Validation size: {len(x_val)} ({0.1*100:.0f}% of data) Total size: {total_size}\")\n",
    "        \n",
    "        # Check the size if we add it should equal to the total size\n",
    "        assert len(xy_train) + len(x_val) == total_size, \"The size of the train and validation data should equal to the total size\"\n",
    "        \n",
    "        print('----------------------------------------------------')\n",
    "        print(\"Starting train.....\")\n",
    "        print('----------------------------------------------------')\n",
    "        for i in range(self.epoch):\n",
    "            # Make a batch\n",
    "            n_batch = len(xy_train) // self.batch_size\n",
    "            \n",
    "            # Shuffle the data before batching because when batch the last batch might not be full so it will be dropped out!\n",
    "            np.random.shuffle(xy_train)\n",
    "            \n",
    "            # Split the training data\n",
    "            x_train, y_train = xy_train[:, :-1], xy_train[:, -1].reshape(-1, 1)\n",
    "            \n",
    "            for j in range(n_batch):\n",
    "                x_batch = x_train[j * self.batch_size: (j + 1) * self.batch_size]\n",
    "                y_batch = y_train[j * self.batch_size: (j + 1) * self.batch_size]\n",
    "                \n",
    "                # Forward pass\n",
    "                y_pred = self.forward(x_batch)\n",
    "                \n",
    "                # Calculate the loss\n",
    "                loss = self.calculate_loss(y_batch, y_pred)\n",
    "                \n",
    "                # Backward pass\n",
    "                self.backward(x_batch, y_batch, y_pred)\n",
    "                \n",
    "            # Log\n",
    "            if (i+1) % 10 == 0:\n",
    "                print(f\"Epoch: {i+1}, Loss: {loss:.5f}, Accuracy: {self.calculuate_accuracy(y_val, self.forward(x_val))}\")"
   ]
  },
  {
   "cell_type": "markdown",
   "metadata": {},
   "source": [
    "Make function to clean all column that needed to be cleaned! and also the function for normalize and setup the data before training!! More than that I will predefine the inference function for testing and export the result as a csv file."
   ]
  },
  {
   "cell_type": "code",
   "execution_count": 21,
   "metadata": {},
   "outputs": [],
   "source": [
    "def clean_data(df, columns=[\"Age\", \"Embarked\", \"Sex\",]):\n",
    "    for column in columns:\n",
    "        if column == \"Age\":\n",
    "            # Fill null value with mode as default\n",
    "            df[column] = df[column].fillna(df[column].mode()[0])\n",
    "        elif column == \"Embarked\":\n",
    "            # Fill null value with mode as default\n",
    "            df = categorize_embark(df)\n",
    "            df[column] = df[column].fillna(df[column].mode()[0])\n",
    "        elif column == \"Sex\":\n",
    "            df = categorize_sex(df)\n",
    "    \n",
    "    return df\n",
    "\n",
    "def _normalize_minmax(data, eps=1e-8):\n",
    "    \"\"\"Normalize each column of the data\n",
    "\n",
    "    Args:\n",
    "        data (array): The array that contains all data\n",
    "\n",
    "    Returns:\n",
    "        array: normalized data\n",
    "    \"\"\"\n",
    "    return (data - data.min(axis=0)) / (data.max(axis=0) - data.min(axis=0) + eps), data.min(axis=0), data.max(axis=0)\n",
    "\n",
    "def normalize(x, min=None, max=None, eps=1e-8):\n",
    "        \"\"\"\n",
    "        Normalize the data for test set\n",
    "        \"\"\"\n",
    "        return (x - min) / (max - min + eps)\n",
    "\n",
    "def setup_train_data(xy, attr_to_normalize):\n",
    "    \"\"\"Setup training data for the model\n",
    "\n",
    "    Args:\n",
    "        xy (array):training data x and y(optional)\n",
    "    \"\"\"\n",
    "    xy = xy\n",
    "    attr_normalize_stats = {}\n",
    "    \n",
    "    # Normalize according to the attributes\n",
    "    for i in attr_to_normalize:\n",
    "        xy[:, i], min, max = _normalize_minmax(xy[:, i])\n",
    "        print(f\"Attribute {i} min: {min}, max: {max}\")\n",
    "        \n",
    "        # Save the min and max for each attribute to stats\n",
    "        attr_normalize_stats[i] = [min, max]\n",
    "    \n",
    "    print(attr_normalize_stats)\n",
    "    print('----------------------------------------------------')\n",
    "    \n",
    "    return xy, attr_normalize_stats\n",
    "\n",
    "def inference(test, classifier):\n",
    "    # Load the test data \n",
    "    test_url = \"http://s3.amazonaws.com/assets.datacamp.com/course/Kaggle/test.csv\"\n",
    "    test_df = pd.read_csv(test_url) #test set\n",
    "    \n",
    "    # Inference the model\n",
    "    result = classifier.inference(test)\n",
    "    \n",
    "    # Concat the result with DataFrame\n",
    "    test_df[\"Survived\"] = result.astype(np.int64)\n",
    "    \n",
    "    # Return dataframe with only PassengerId and Survived\n",
    "    return test_df[[\"PassengerId\", \"Survived\"]]"
   ]
  },
  {
   "cell_type": "markdown",
   "metadata": {},
   "source": [
    "Load data and prepare the recipe for cooking!"
   ]
  },
  {
   "cell_type": "code",
   "execution_count": 22,
   "metadata": {},
   "outputs": [],
   "source": [
    "# Load the training data\n",
    "train_url = \"http://s3.amazonaws.com/assets.datacamp.com/course/Kaggle/train.csv\"\n",
    "train_df = pd.read_csv(train_url) #training set\n",
    "train_df = clean_data(train_df)\n",
    "\n",
    "# Load the test data\n",
    "test_url = \"http://s3.amazonaws.com/assets.datacamp.com/course/Kaggle/test.csv\"\n",
    "test_df = pd.read_csv(test_url) #test set\n",
    "test_df = clean_data(test_df)"
   ]
  },
  {
   "cell_type": "code",
   "execution_count": 23,
   "metadata": {},
   "outputs": [
    {
     "name": "stdout",
     "output_type": "stream",
     "text": [
      "Attribute 2 min: 0.42, max: 80.0\n",
      "{2: [0.42, 80.0]}\n",
      "----------------------------------------------------\n",
      "Attribute 2 min: 0.42, max: 80.0\n",
      "{2: [0.42, 80.0]}\n",
      "----------------------------------------------------\n",
      "Attribute 1 min: 0.42, max: 80.0\n",
      "{1: [0.42, 80.0]}\n",
      "----------------------------------------------------\n",
      "Attribute 1 min: 0.42, max: 80.0\n",
      "{1: [0.42, 80.0]}\n",
      "----------------------------------------------------\n"
     ]
    }
   ],
   "source": [
    "# Gather trainset for each experiment\n",
    "\n",
    "# Common trainset for T10 and T12\n",
    "trainset_00 = np.array(train_df[[\"Pclass\",\"Sex\",\"Age\",\"Embarked\", \"Survived\"]].values, dtype=float)\n",
    "\n",
    "# T10 (Original)\n",
    "trainset_01 = deepcopy(trainset_00)\n",
    "trainset_01, trainset_01_stats = setup_train_data(trainset_01, [2,]) # Normalize only age\n",
    "\n",
    "# T12 (High order)\n",
    "trainset_02 = deepcopy(trainset_00)\n",
    "trainset_02, trainset_02_stats = setup_train_data(trainset_02, [2,]) # Normalize only age\n",
    "trainset_02 = np.concatenate((trainset_02[:, 0:1]**2, trainset_02[:, 2:3]**2, trainset_02[:, 1:2] * trainset_02[:, 2:3], trainset_02), axis=1)\n",
    "\n",
    "# Common trainset for T13.1 and T13.2\n",
    "trainset_00_03 = np.array(train_df[[\"Sex\", \"Age\", \"Survived\"]].values, dtype=float)\n",
    "\n",
    "# T13.1 (Just only sex and age)\n",
    "trainset_03 = deepcopy(trainset_00_03)\n",
    "trainset_03, trainset_03_stats = setup_train_data(trainset_03, [1,]) # Normalize only age\n",
    "\n",
    "# T13.2 (High order for sex and age for experiment!!!)\n",
    "trainset_04 = deepcopy(trainset_00_03)\n",
    "trainset_04, trainset_04_stats = setup_train_data(trainset_04, [1,]) # Normalize only age\n",
    "trainset_04 = np.concatenate((trainset_04[:, 0:1]**2, trainset_04), axis=1)"
   ]
  },
  {
   "cell_type": "code",
   "execution_count": 24,
   "metadata": {},
   "outputs": [],
   "source": [
    "# Gather testset for each experiment\n",
    "\n",
    "# Common testset\n",
    "testset_00 = np.array(test_df[[\"Pclass\",\"Sex\",\"Age\",\"Embarked\"]].values, dtype=float)\n",
    "testset_00[:, 2] = normalize(testset_00[:, 2], trainset_01_stats[2][0], trainset_01_stats[2][1])\n",
    "\n",
    "# T10\n",
    "testset_01 = deepcopy(testset_00)\n",
    "\n",
    "# T12\n",
    "testset_02 = deepcopy(testset_00)\n",
    "testset_02 = np.concatenate((testset_02[:, 0:1]**2, testset_02[:, 2:3]**2, testset_02[:, 1:2] * testset_02[:, 2:3], testset_02), axis=1)\n",
    "\n",
    "# T13.1\n",
    "testset_00_03 = deepcopy(testset_00)\n",
    "testset_00_03 = np.delete(testset_00_03, [0, 3], axis=1) # Common testset 00 03\n",
    "testset_03 = deepcopy(testset_00_03)\n",
    "\n",
    "# T13.2\n",
    "testset_04 = deepcopy(testset_00_03)\n",
    "testset_04 = np.concatenate((testset_04[:, 0:1]**2,  testset_04), axis=1)"
   ]
  },
  {
   "cell_type": "markdown",
   "metadata": {},
   "source": [
    "This is my base config for training this model which has the following parameters:\n",
    "- Learning rate = 0.01\n",
    "- Number of iterations = 100\n",
    "- Batch size = 64"
   ]
  },
  {
   "cell_type": "code",
   "execution_count": 25,
   "metadata": {},
   "outputs": [],
   "source": [
    "# Base config\n",
    "lr = 0.01\n",
    "epoch = 100\n",
    "batch_size = 64"
   ]
  },
  {
   "cell_type": "markdown",
   "metadata": {},
   "source": [
    "Define the classifier for each question"
   ]
  },
  {
   "cell_type": "code",
   "execution_count": 26,
   "metadata": {},
   "outputs": [],
   "source": [
    "# Base config\n",
    "lr = 0.01\n",
    "epoch = 100\n",
    "batch_size = 64\n",
    "\n",
    "classifier01 = LogisticRegClassifier(learning_rate=lr, epoch=epoch, batch_size=batch_size,\n",
    "                                     n_attributes=4,)\n",
    "classifier01.setup_train_data(trainset_01)\n",
    "\n",
    "\n",
    "classifier02 = LogisticRegClassifier(learning_rate=lr, epoch=epoch, batch_size=batch_size,\n",
    "                                     n_attributes=7,)\n",
    "classifier02.setup_train_data(trainset_02)\n",
    "\n",
    "\n",
    "classifier03 = LogisticRegClassifier(learning_rate=lr, epoch=epoch, batch_size=batch_size,\n",
    "                                     n_attributes=2,)\n",
    "classifier03.setup_train_data(trainset_03)\n",
    "\n",
    "\n",
    "classifier04 = LogisticRegClassifier(learning_rate=lr, epoch=epoch, batch_size=batch_size,\n",
    "                                     n_attributes=3,)\n",
    "classifier04.setup_train_data(trainset_04)"
   ]
  },
  {
   "cell_type": "markdown",
   "metadata": {},
   "source": [
    "Let's cook the **T10**"
   ]
  },
  {
   "cell_type": "code",
   "execution_count": 27,
   "metadata": {},
   "outputs": [
    {
     "name": "stdout",
     "output_type": "stream",
     "text": [
      "----------------------------------------------------\n",
      "Starting train.....\n",
      "----------------------------------------------------\n",
      "Epoch: 100, Loss: 0.39413, Accuracy: 0.7822671156004489\n"
     ]
    }
   ],
   "source": [
    "# Train the model for T10\n",
    "classifier01.train_without_val()\n",
    "\n",
    "# Test the model for T10\n",
    "final_result_01 = inference(testset_01, classifier01)\n",
    "\n",
    "# Save as csv\n",
    "final_result_01.to_csv(f\"./titanic_result_01_seed{seed}.csv\", index=False)"
   ]
  },
  {
   "cell_type": "markdown",
   "metadata": {},
   "source": [
    "**T12**: Try adding some higher order features to your training (x21 , x1 x2 ,...).\n",
    "Does this model has better accuracy on the training set? How does it\n",
    "perform on the test set?"
   ]
  },
  {
   "cell_type": "code",
   "execution_count": 28,
   "metadata": {},
   "outputs": [
    {
     "name": "stdout",
     "output_type": "stream",
     "text": [
      "----------------------------------------------------\n",
      "Starting train.....\n",
      "----------------------------------------------------\n",
      "Epoch: 100, Loss: 0.65992, Accuracy: 0.7934904601571269\n"
     ]
    }
   ],
   "source": [
    "# Train the model for T12\n",
    "classifier02.train_without_val()\n",
    "\n",
    "# Test the model for T12\n",
    "final_result_02 = inference(testset_02, classifier02)\n",
    "\n",
    "# Save as csv\n",
    "final_result_02.to_csv(f\"./titanic_result_02_seed{seed}.csv\", index=False)"
   ]
  },
  {
   "cell_type": "markdown",
   "metadata": {},
   "source": [
    "**T13**: What happens if you reduce the amount of features to just Sex and Age?"
   ]
  },
  {
   "cell_type": "code",
   "execution_count": 29,
   "metadata": {},
   "outputs": [
    {
     "name": "stdout",
     "output_type": "stream",
     "text": [
      "----------------------------------------------------\n",
      "Starting train.....\n",
      "----------------------------------------------------\n",
      "Epoch: 100, Loss: 0.56076, Accuracy: 0.7867564534231201\n"
     ]
    }
   ],
   "source": [
    "# Train the model for T13.1\n",
    "classifier03.train_without_val()\n",
    "\n",
    "# Test the model for T13.1\n",
    "final_result_03 = inference(testset_03, classifier03)\n",
    "\n",
    "# Save as csv\n",
    "final_result_03.to_csv(f\"./titanic_result_03_seed{seed}.csv\", index=False)"
   ]
  },
  {
   "cell_type": "markdown",
   "metadata": {},
   "source": [
    "**T13.1**: What if I add high order feats?"
   ]
  },
  {
   "cell_type": "code",
   "execution_count": 30,
   "metadata": {},
   "outputs": [
    {
     "name": "stdout",
     "output_type": "stream",
     "text": [
      "----------------------------------------------------\n",
      "Starting train.....\n",
      "----------------------------------------------------\n",
      "Epoch: 100, Loss: 0.50062, Accuracy: 0.7867564534231201\n"
     ]
    }
   ],
   "source": [
    "# Train the model for T13.2\n",
    "classifier04.train_without_val()\n",
    "\n",
    "# Test the model for T13.2\n",
    "final_result_04 = inference(testset_04, classifier04)\n",
    "\n",
    "# Save as csv\n",
    "final_result_04.to_csv(f\"./titanic_result_04_seed{seed}.csv\", index=False)"
   ]
  },
  {
   "cell_type": "markdown",
   "metadata": {},
   "source": [
    "**OT3**: We want to show that matrix inversion yields the same answer\n",
    "as the gradient descent method. However, there is no closed form solution for\n",
    "logistic regression. Thus, we will use normal linear regression instead. Re-do\n",
    "the Titanic task as a regression problem by using linear regression. Use the\n",
    "gradient descent method."
   ]
  },
  {
   "cell_type": "markdown",
   "metadata": {},
   "source": [
    "Let's define the class linear regression! with no bias term which is simpler when compare with matrix inversion method"
   ]
  },
  {
   "cell_type": "code",
   "execution_count": null,
   "metadata": {},
   "outputs": [],
   "source": [
    "class LinearReg(LogisticRegClassifier):\n",
    "    def __init__(self, learning_rate=0.01, epoch=1000, n_attributes=4, batch_size=32, val_perc=0.1):\n",
    "        super().__init__(learning_rate, epoch, n_attributes, batch_size, val_perc)\n",
    "    \n",
    "    def initialize(self,):\n",
    "        \"\"\"\n",
    "        Initialize the model's weights according to the number of attributes\n",
    "        Ex: z = w0+ w1x1 + w2x2 + w3x3 + w4x4 (like in the lecture)\n",
    "        \"\"\"\n",
    "        weights = np.random.randn(self.n_attributes, 1)\n",
    "        return weights\n",
    "    \n",
    "    def backward(self, x, y, y_pred):\n",
    "        \"\"\"\n",
    "        Backward pass for the model\n",
    "        \"\"\"\n",
    "        # Calculate the gradient\n",
    "        dz = y - y_pred\n",
    "        \n",
    "        # Update the weights\n",
    "        self.weights += self.learning_rate * np.dot(x.T, dz)\n",
    "    \n",
    "    def forward(self, x, is_train=True):\n",
    "        \"\"\"\n",
    "        Forward pass for the model using dot product\n",
    "        \"\"\"\n",
    "        \n",
    "        # Forward to get the intermediate output\n",
    "        # z = self.weights[0] + np.dot(x, self.weights[1:])\n",
    "        z = np.dot(x, self.weights)\n",
    "        \n",
    "        return z\n",
    "    \n",
    "    def calculate_loss(self, y, y_pred, eps=1e-8):\n",
    "        \"\"\"\n",
    "        Calculate the loss\n",
    "        \"\"\"\n",
    "        return np.mean((y - y_pred)**2)"
   ]
  },
  {
   "cell_type": "markdown",
   "metadata": {},
   "source": [
    "Define the training and testset"
   ]
  },
  {
   "cell_type": "code",
   "execution_count": null,
   "metadata": {},
   "outputs": [
    {
     "name": "stdout",
     "output_type": "stream",
     "text": [
      "Attribute 2 min: 0.42, max: 80.0\n",
      "{2: [0.42, 80.0]}\n",
      "----------------------------------------------------\n"
     ]
    }
   ],
   "source": [
    "# Gather trainset for each experiment\n",
    "# Common trainset for T10 and T12\n",
    "trainset_00 = np.array(train_df[[\"Pclass\",\"Sex\",\"Age\",\"Embarked\", \"Survived\"]].values, dtype=float)\n",
    "\n",
    "# T10 (Original)\n",
    "trainset_01 = deepcopy(trainset_00)\n",
    "trainset_01, trainset_01_stats = setup_train_data(trainset_01, [2,]) # Normalize only age\n",
    "\n",
    "\n",
    "# Gather testset for each experiment\n",
    "# Common testset\n",
    "testset_00 = np.array(test_df[[\"Pclass\",\"Sex\",\"Age\",\"Embarked\"]].values, dtype=float)\n",
    "testset_00[:, 2] = normalize(testset_00[:, 2], trainset_01_stats[2][0], trainset_01_stats[2][1])\n",
    "\n",
    "# T10\n",
    "testset_01 = deepcopy(testset_00)"
   ]
  },
  {
   "cell_type": "markdown",
   "metadata": {},
   "source": [
    "Make a model instance"
   ]
  },
  {
   "cell_type": "markdown",
   "metadata": {},
   "source": [
    "Let's do two experiments with different Learning rate"
   ]
  },
  {
   "cell_type": "code",
   "execution_count": null,
   "metadata": {},
   "outputs": [],
   "source": [
    "# Base config1\n",
    "lr = 0.01\n",
    "epoch = 100\n",
    "batch_size = 64\n",
    "\n",
    "linearreg1 = LinearReg(learning_rate=lr, epoch=epoch, batch_size=batch_size,\n",
    "                                     n_attributes=4,)\n",
    "linearreg1.setup_train_data(trainset_01)\n",
    "\n",
    "# Base config2\n",
    "lr = 0.001\n",
    "epoch = 100\n",
    "batch_size = 64\n",
    "\n",
    "linearreg2 = LinearReg(learning_rate=lr, epoch=epoch, batch_size=batch_size,\n",
    "                                     n_attributes=4,)\n",
    "linearreg2.setup_train_data(trainset_01)"
   ]
  },
  {
   "cell_type": "markdown",
   "metadata": {},
   "source": [
    "It looks like the model with default learning rate that I use for Logistic regression is not working well for linear regression which give the overflow in square warning. I will try to use the learning rate of 0.001"
   ]
  },
  {
   "cell_type": "code",
   "execution_count": null,
   "metadata": {},
   "outputs": [
    {
     "name": "stdout",
     "output_type": "stream",
     "text": [
      "----------------------------------------------------\n",
      "Starting train.....\n",
      "----------------------------------------------------\n",
      "Epoch: 100, Loss: nan, Accuracy: 0.6161616161616161\n"
     ]
    },
    {
     "name": "stderr",
     "output_type": "stream",
     "text": [
      "/home/phonphrm/miniconda3/envs/pattern_class/lib/python3.8/site-packages/numpy/core/_methods.py:181: RuntimeWarning: overflow encountered in reduce\n",
      "  ret = umr_sum(arr, axis, dtype, out, keepdims, where=where)\n",
      "/tmp/ipykernel_158688/3761011842.py:38: RuntimeWarning: overflow encountered in square\n",
      "  return np.mean((y - y_pred)**2)\n"
     ]
    }
   ],
   "source": [
    "# Train the model for T10\n",
    "linearreg1.train_without_val()\n",
    "\n",
    "# Test the model for T10\n",
    "linearreg1_result = inference(testset_01, linearreg1)\n",
    "\n",
    "# Save as csv\n",
    "linearreg1_result.to_csv(f\"./linearreg_titanic_result_1_seed{seed}.csv\", index=False)"
   ]
  },
  {
   "cell_type": "markdown",
   "metadata": {},
   "source": [
    "This model looks pretty great! Let's see the result of the test set! in Kaggle"
   ]
  },
  {
   "cell_type": "code",
   "execution_count": null,
   "metadata": {},
   "outputs": [
    {
     "name": "stdout",
     "output_type": "stream",
     "text": [
      "----------------------------------------------------\n",
      "Starting train.....\n",
      "----------------------------------------------------\n",
      "Epoch: 100, Loss: 0.19649, Accuracy: 0.6924803591470258\n"
     ]
    }
   ],
   "source": [
    "# Train the model for T10\n",
    "linearreg2.train_without_val()\n",
    "\n",
    "# Test the model for T10\n",
    "linearreg2_result = inference(testset_01, linearreg2)\n",
    "\n",
    "# Save as csv\n",
    "linearreg2_result.to_csv(f\"./linearreg_titanic_result_2_seed{seed}.csv\", index=False)"
   ]
  },
  {
   "cell_type": "markdown",
   "metadata": {},
   "source": [
    "**OT4**: Now try using matrix inversion instead. However Are the weights\n",
    "learned from the two methods similar? Report the Mean Squared Errors (MSE)\n",
    "of the difference between the two weights."
   ]
  },
  {
   "cell_type": "code",
   "execution_count": null,
   "metadata": {},
   "outputs": [
    {
     "name": "stdout",
     "output_type": "stream",
     "text": [
      "Attribute 2 min: 0.42, max: 80.0\n",
      "{2: [0.42, 80.0]}\n",
      "----------------------------------------------------\n"
     ]
    }
   ],
   "source": [
    "# Gather trainset for each experiment\n",
    "# Common trainset for T10 and T12\n",
    "trainset_00 = np.array(train_df[[\"Pclass\",\"Sex\",\"Age\",\"Embarked\", \"Survived\"]].values, dtype=float)\n",
    "\n",
    "# T10 (Original)\n",
    "trainset_01 = deepcopy(trainset_00)\n",
    "trainset_01, trainset_01_stats = setup_train_data(trainset_01, [2,]) # Normalize only age"
   ]
  },
  {
   "cell_type": "markdown",
   "metadata": {},
   "source": [
    "Let's define the variable for the matrix inversion and do the calculation!"
   ]
  },
  {
   "cell_type": "code",
   "execution_count": null,
   "metadata": {},
   "outputs": [
    {
     "name": "stdout",
     "output_type": "stream",
     "text": [
      "Weights size for the matix inversion method: (4, 1)\n"
     ]
    }
   ],
   "source": [
    "X = trainset_01[:, :-1]\n",
    "X_T = X.T\n",
    "y = trainset_01[:, -1].reshape(-1, 1)\n",
    "\n",
    "weights_matrix_inversion = np.linalg.inv(X_T @ X) @ X_T @ y\n",
    "print(f\"Weights size for the matix inversion method: {weights_matrix_inversion.shape}\")"
   ]
  },
  {
   "cell_type": "markdown",
   "metadata": {},
   "source": [
    "Compare two weights from two methods!\n",
    "- Get weight from Linear Regression with Gradient Descent method with no bias weight"
   ]
  },
  {
   "cell_type": "code",
   "execution_count": null,
   "metadata": {},
   "outputs": [
    {
     "name": "stdout",
     "output_type": "stream",
     "text": [
      "Weights size for the gradient descent method: (4, 1)\n",
      "MSE between the matrix inversion and gradient descent method: 0.000262\n"
     ]
    }
   ],
   "source": [
    "weights_grad_descent = linearreg2.weights\n",
    "print(f\"Weights size for the gradient descent method: {weights_grad_descent.shape}\")\n",
    "\n",
    "weight_diff = np.mean((weights_matrix_inversion - weights_grad_descent)**2)\n",
    "print(f\"MSE between the matrix inversion and gradient descent method: {weight_diff:.6f}\")"
   ]
  }
 ],
 "metadata": {
  "kernelspec": {
   "display_name": "pattern_class",
   "language": "python",
   "name": "python3"
  },
  "language_info": {
   "codemirror_mode": {
    "name": "ipython",
    "version": 3
   },
   "file_extension": ".py",
   "mimetype": "text/x-python",
   "name": "python",
   "nbconvert_exporter": "python",
   "pygments_lexer": "ipython3",
   "version": "3.8.18"
  }
 },
 "nbformat": 4,
 "nbformat_minor": 2
}
